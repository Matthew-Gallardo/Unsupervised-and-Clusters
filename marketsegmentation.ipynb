{
 "cells": [
  {
   "cell_type": "code",
   "execution_count": 2,
   "metadata": {},
   "outputs": [],
   "source": [
    "import csv\n",
    "\n",
    "import numpy as np\n",
    "import matplotlib.pyplot as plt\n",
    "from sklearn.cluster import MeanShift, estimate_bandwidth"
   ]
  },
  {
   "cell_type": "code",
   "execution_count": 3,
   "metadata": {},
   "outputs": [],
   "source": [
    "#Load data from input file\n",
    "input_file = 'sales.txt'\n",
    "file_reader = csv.reader(open(input_file, 'r'), delimiter =',')\n",
    "\n",
    "X=[]\n",
    "for count, row in enumerate(file_reader):\n",
    "    if not count:\n",
    "        names = row[1:]\n",
    "        continue\n",
    "\n",
    "    X.append([float(x)for x in row [1:]])"
   ]
  },
  {
   "cell_type": "code",
   "execution_count": 9,
   "metadata": {},
   "outputs": [
    {
     "name": "stdout",
     "output_type": "stream",
     "text": [
      "\n",
      "Number of cluster in input data =  9\n",
      "\n",
      "Centers of clusters:\n",
      "Tsh\tTan\tHal\tTur\tTub\tSwe\n",
      "9823\t4637\t6539\t2607\t2228\t1239\n",
      "38589\t44199\t56158\t5030\t24674\t4125\n",
      "104972\t29186\t19415\t16016\t5060\t9372\n",
      "38741\t40539\t20120\t35059\t255\t50710\n",
      "35314\t16745\t12775\t66900\t1298\t5613\n",
      "28333\t34263\t24065\t5575\t4229\t18076\n",
      "22617\t77873\t32543\t1005\t21035\t837\n",
      "14987\t46397\t97393\t1127\t37315\t3235\n",
      "7852\t4939\t63081\t134\t40066\t1332\n"
     ]
    }
   ],
   "source": [
    "#Convert to numpy array\n",
    "X=np.array(X)\n",
    "\n",
    "#Estimating the bandwidth of input data\n",
    "bandwidth= estimate_bandwidth(X, quantile=0.8, n_samples=len(X))\n",
    "\n",
    "#Compute clustering with MeanShift\n",
    "meanshift_model= MeanShift(bandwidth=bandwidth, bin_seeding=True)\n",
    "meanshift_model.fit(X)\n",
    "labels= meanshift_model.labels_\n",
    "cluster_centers= meanshift_model.cluster_centers_\n",
    "num_clusters= len(np.unique(labels))\n",
    "\n",
    "print(\"\\nNumber of cluster in input data = \", num_cluster)\n",
    "\n",
    "print(\"\\nCenters of clusters:\")\n",
    "print('\\t'.join([name[:3] for name in names]))\n",
    "for cluster_center in cluster_centers:\n",
    "    print('\\t'.join([str(int(x)) for x in cluster_center]))\n",
    "\n",
    "#Extract  two features for visualization\n",
    "cluster_centers_2d= cluster_centers[:, 1:3]\n",
    "    \n"
   ]
  },
  {
   "cell_type": "code",
   "execution_count": 11,
   "metadata": {},
   "outputs": [
    {
     "ename": "ValueError",
     "evalue": "zero-size array to reduction operation maximum which has no identity",
     "output_type": "error",
     "traceback": [
      "\u001b[1;31m---------------------------------------------------------------------------\u001b[0m",
      "\u001b[1;31mValueError\u001b[0m                                Traceback (most recent call last)",
      "Cell \u001b[1;32mIn[11], line 7\u001b[0m\n\u001b[0;32m      3\u001b[0m plt\u001b[39m.\u001b[39mscatter(cluster_centers_2d[:,\u001b[39m0\u001b[39m], cluster_centers_2d[:,\u001b[39m1\u001b[39m],s\u001b[39m=\u001b[39m\u001b[39m120\u001b[39m, edgecolors\u001b[39m=\u001b[39m\u001b[39m'\u001b[39m\u001b[39mblack\u001b[39m\u001b[39m'\u001b[39m, facecolors\u001b[39m=\u001b[39m\u001b[39m'\u001b[39m\u001b[39mnone\u001b[39m\u001b[39m'\u001b[39m)\n\u001b[0;32m      5\u001b[0m offset\u001b[39m=\u001b[39m\u001b[39m0.25\u001b[39m\n\u001b[0;32m      6\u001b[0m plt\u001b[39m.\u001b[39mxlim(cluster_centers_2d[:,\u001b[39m0\u001b[39m]\u001b[39m.\u001b[39mmin()\u001b[39m-\u001b[39moffset \u001b[39m*\u001b[39mcluster_centers_2d[:,\u001b[39m0\u001b[39m]\u001b[39m.\u001b[39mptp(), \n\u001b[1;32m----> 7\u001b[0m          cluster_centers_2d[:,\u001b[39m0\u001b[39m]\u001b[39m.\u001b[39mmax()\u001b[39m+\u001b[39moffset \u001b[39m*\u001b[39mcluster_centers_2d[:\u001b[39m0\u001b[39;49m]\u001b[39m.\u001b[39;49mptp(),)\n\u001b[0;32m      8\u001b[0m plt\u001b[39m.\u001b[39mylim(cluster_centers_2d[:,\u001b[39m1\u001b[39m]\u001b[39m.\u001b[39mmin()\u001b[39m-\u001b[39moffset \u001b[39m*\u001b[39mcluster_centers_2d[:,\u001b[39m1\u001b[39m]\u001b[39m.\u001b[39mptp(), \n\u001b[0;32m      9\u001b[0m          cluster_centers_2d[:,\u001b[39m1\u001b[39m]\u001b[39m.\u001b[39mmax()\u001b[39m+\u001b[39moffset \u001b[39m*\u001b[39mcluster_centers_2d[:,\u001b[39m1\u001b[39m]\u001b[39m.\u001b[39mptp(),)\n\u001b[0;32m     11\u001b[0m plt\u001b[39m.\u001b[39mtitle(\u001b[39m'\u001b[39m\u001b[39mCenters of 2D clusters\u001b[39m\u001b[39m'\u001b[39m)\n",
      "File \u001b[1;32mc:\\Users\\Administrator\\AppData\\Local\\Programs\\Python\\Python311\\Lib\\site-packages\\numpy\\core\\_methods.py:283\u001b[0m, in \u001b[0;36m_ptp\u001b[1;34m(a, axis, out, keepdims)\u001b[0m\n\u001b[0;32m    281\u001b[0m \u001b[39mdef\u001b[39;00m \u001b[39m_ptp\u001b[39m(a, axis\u001b[39m=\u001b[39m\u001b[39mNone\u001b[39;00m, out\u001b[39m=\u001b[39m\u001b[39mNone\u001b[39;00m, keepdims\u001b[39m=\u001b[39m\u001b[39mFalse\u001b[39;00m):\n\u001b[0;32m    282\u001b[0m     \u001b[39mreturn\u001b[39;00m um\u001b[39m.\u001b[39msubtract(\n\u001b[1;32m--> 283\u001b[0m         umr_maximum(a, axis, \u001b[39mNone\u001b[39;00m, out, keepdims),\n\u001b[0;32m    284\u001b[0m         umr_minimum(a, axis, \u001b[39mNone\u001b[39;00m, \u001b[39mNone\u001b[39;00m, keepdims),\n\u001b[0;32m    285\u001b[0m         out\n\u001b[0;32m    286\u001b[0m     )\n",
      "\u001b[1;31mValueError\u001b[0m: zero-size array to reduction operation maximum which has no identity"
     ]
    },
    {
     "data": {
      "image/png": "[encoded data removed]",
      "text/plain": [
       "<Figure size 640x480 with 1 Axes>"
      ]
     },
     "metadata": {},
     "output_type": "display_data"
    }
   ],
   "source": [
    "#Plot the cluster centers\n",
    "plt.figure()\n",
    "plt.scatter(cluster_centers_2d[:,0], cluster_centers_2d[:,1],\n",
    "            s=120, edgecolors='black', facecolors='none')\n",
    "\n",
    "offset=0.25\n",
    "plt.xlim(cluster_centers_2d[:,0].min()-offset *cluster_centers_2d[:,0].ptp(), \n",
    "         cluster_centers_2d[:,0].max()+offset *cluster_centers_2d[:0].ptp(),)\n",
    "plt.ylim(cluster_centers_2d[:,1].min()-offset *cluster_centers_2d[:,1].ptp(), \n",
    "         cluster_centers_2d[:,1].max()+offset *cluster_centers_2d[:,1].ptp(),)\n",
    "\n",
    "plt.title('Centers of 2D clusters')\n",
    "plt.show()"
   ]
  }
 ],
 "metadata": {
  "kernelspec": {
   "display_name": "Python 3",
   "language": "python",
   "name": "python3"
  },
  "language_info": {
   "codemirror_mode": {
    "name": "ipython",
    "version": 3
   },
   "file_extension": ".py",
   "mimetype": "text/x-python",
   "name": "python",
   "nbconvert_exporter": "python",
   "pygments_lexer": "ipython3",
   "version": "3.11.0"
  },
  "orig_nbformat": 4
 },
 "nbformat": 4,
 "nbformat_minor": 2
}
